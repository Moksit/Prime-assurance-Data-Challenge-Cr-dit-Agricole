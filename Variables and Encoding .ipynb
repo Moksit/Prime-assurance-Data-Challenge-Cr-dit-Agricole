{
 "cells": [
  {
   "cell_type": "markdown",
   "id": "3889aeb9-be8c-4b0a-8003-3006961ca4ba",
   "metadata": {},
   "source": [
    "### Variables:\n",
    "- The 'exemple.ipynb' removes the variable 'ANNEE_ASSURANCE' from the prediction process, it should be added as it is relevant."
   ]
  },
  {
   "cell_type": "markdown",
   "id": "ba039862-6612-4c43-9a81-cb7b7d12909e",
   "metadata": {},
   "source": [
    "### Enconding:\n",
    "\n",
    "The encoder encodes the variables randomly, it is better to encode the variables manually in a way to :\n",
    "- Simplify the computations (encode with small values).\n",
    "- Keep the order when there is any."
   ]
  },
  {
   "cell_type": "code",
   "execution_count": null,
   "id": "859a81d7-566b-4b67-a070-2251548f6d99",
   "metadata": {},
   "outputs": [],
   "source": [
    "#For better results, It is important to encode the 'train' and 'test' data similarly, here is a code that does it:\n",
    "\n",
    "encoder = CountEncoder(cols='the non-numeric columns')\n",
    "encoder.fit(X_train)  # Fit only on training data\n",
    "X_train_enc = encoder.transform(X_train)\n",
    "X_test_enc = encoder.transform(X_test)  # Apply same mapping"
   ]
  },
  {
   "cell_type": "code",
   "execution_count": null,
   "id": "27b63cc5-8b6a-4353-9cca-de922dc20a94",
   "metadata": {},
   "outputs": [],
   "source": [
    "#Encoding propositions for some variables:\n",
    "def mapping(df) :\n",
    "    df['ADOSS'] = df['ADOSS'].map({'N': 0.0, 'O': 1.0}).fillna(0.0)\n",
    "    df['ESPINSEE'] =df['ESPINSEE'].map({'ESP3':3.0, 'ESP4':4.0, 'ESP2':2.0, 'ESP1':1.0}).fillna(0.0)\n",
    "    df['AN_EXERC'] = df['AN_EXERC'].map({'ANNEE5': 5.0, 'ANNEE4':4.0, 'ANNEE3':3.0, 'ANNEE2':2.0, 'ANNEE1':1.0, \n",
    "                                     'ANNEE6':6.0, 'ANNEE9': 9.0, 'ANNEE8': 8.0, 'ANNEE7':7.0}).fillna(0.0)\n",
    "    df['CARACT4'] = df['CARACT4'].map({'absence de surface':0.0, 'Surface de moins d':500.0, 'Surface entre 501':1000.0,\n",
    "       'Surface entre 1001':1500.0, 'Surface entre 1501':2000.0, 'Surface de plus de':3000.0}).fillna(0.0)\n",
    "    df['INDEM1'] = df['INDEM1'].map({ 'N': 0.0, 'O': 1.0\n",
    "    }).fillna(0.0)\n",
    "    df['INDEM2']=df['INDEM2'].map({'CLASS5':5.0, 'CLASS6':6.0, 'CLASS8':8.0, 'CLASS9':9.0, 'CLASS7':7.0, 'CLASS1':1.0,\n",
    "       'CLASS13':13.0, 'CLASS2':2.0, 'CLASS11':11.0, 'CLASS4':4.0, 'CLASS10':10.0, 'CLASS3':3.0}).fillna(0.0)\n",
    "    df['TAILLE1']=df['TAILLE1'].map({\n",
    "    '05 - [1M - 1.5M]':5.0, '02 - [250k-500k]':2.0, '01 - [0   -250k]':1.0,\n",
    "       '03 - [500k-750k]':3.0, '04 - [750k-  1M]':4.0, '06 - [1.5M - 2M]':6.0,\n",
    "       '07 - [2M  -  3M]':7.0, '08 - [3M  -  4M]':8.0, '10 - [5M  -   +[':10.0,\n",
    "       '09 - [4M  -  5M]':9.0\n",
    "    }).fillna(0.0)\n",
    "    df['COEFASS']=df['COEFASS'].map({\n",
    "    '01-10':10.0, '0':0.0, '21-30':30.0, '11-20':20.0, '31-40':40.0, '41-50':50.0\n",
    "    }).fillna(0.0)\n",
    "    return df"
   ]
  },
  {
   "cell_type": "markdown",
   "id": "bdf6e671-50f2-4e49-9a0b-76ccb375c28a",
   "metadata": {},
   "source": [
    "Remark: variables like 'TAILLE2' can not be encoded manually for some reason I do not know.\n",
    "One might let it to the encoder or, encode with the encoder and then change the encoding manually"
   ]
  }
 ],
 "metadata": {
  "kernelspec": {
   "display_name": "Python 3 (ipykernel)",
   "language": "python",
   "name": "python3"
  },
  "language_info": {
   "codemirror_mode": {
    "name": "ipython",
    "version": 3
   },
   "file_extension": ".py",
   "mimetype": "text/x-python",
   "name": "python",
   "nbconvert_exporter": "python",
   "pygments_lexer": "ipython3",
   "version": "3.12.2"
  }
 },
 "nbformat": 4,
 "nbformat_minor": 5
}
